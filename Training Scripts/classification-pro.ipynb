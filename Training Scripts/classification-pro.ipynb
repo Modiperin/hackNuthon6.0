{
 "cells": [
  {
   "cell_type": "code",
   "execution_count": null,
   "metadata": {},
   "outputs": [],
   "source": []
  },
  {
   "cell_type": "code",
   "execution_count": null,
   "metadata": {},
   "outputs": [],
   "source": []
  },
  {
   "cell_type": "code",
   "execution_count": null,
   "metadata": {},
   "outputs": [],
   "source": []
  },
  {
   "cell_type": "code",
   "execution_count": null,
   "metadata": {},
   "outputs": [],
   "source": []
  },
  {
   "cell_type": "code",
   "execution_count": 2,
   "metadata": {},
   "outputs": [
    {
     "name": "stdout",
     "output_type": "stream",
     "text": [
      "Subfolders: ['Acitinic Keratosis', 'Basal Cell Carcinoma', 'Dermatofibroma', 'Melanoma', 'Nevus', 'Pigmented Benign Keratosis', 'Seborrheic Keratosis', 'Squamous Cell Carcinoma', 'Vascular Lesion']\n"
     ]
    }
   ],
   "source": [
    "import os\n",
    "\n",
    "def get_subfolders(folder_path):\n",
    "    # List to store subfolder names\n",
    "    subfolders = []\n",
    "    \n",
    "    # Iterate through the items in the folder\n",
    "    for item in os.listdir(folder_path):\n",
    "        item_path = os.path.join(folder_path, item)\n",
    "        # Check if the item is a directory (subfolder)\n",
    "        if os.path.isdir(item_path):\n",
    "            subfolders.append(item)\n",
    "    \n",
    "    return subfolders\n",
    "\n",
    "# Example usage\n",
    "folder_path = \"Skin Cancer Classification/Skin Cancer Dataset\"  # Replace with the path to your folder\n",
    "subfolder_names = get_subfolders(folder_path)\n",
    "print(\"Subfolders:\", subfolder_names)"
   ]
  },
  {
   "cell_type": "code",
   "execution_count": 4,
   "metadata": {},
   "outputs": [
    {
     "name": "stdout",
     "output_type": "stream",
     "text": [
      "Subfolders: ['1. Eczema 1677', '10. Warts Molluscum and other Viral Infections - 2103', '2. Melanoma 15.75k', '3. Atopic Dermatitis - 1.25k', '4. Basal Cell Carcinoma (BCC) 3323', '5. Melanocytic Nevi (NV) - 7970', '6. Benign Keratosis-like Lesions (BKL) 2624', '7. Psoriasis pictures Lichen Planus and related diseases - 2k', '8. Seborrheic Keratoses and other Benign Tumors - 1.8k', '9. Tinea Ringworm Candidiasis and other Fungal Infections - 1.7k']\n"
     ]
    }
   ],
   "source": [
    "# Example usage\n",
    "folder_path = \"Skin diseases image dataset_kaggle_archive/IMG_CLASSES\"  # Replace with the path to your folder\n",
    "subfolder_names = get_subfolders(folder_path)\n",
    "print(\"Subfolders:\", subfolder_names)"
   ]
  },
  {
   "cell_type": "markdown",
   "metadata": {},
   "source": [
    "Melanoma (Present in both lists)\n",
    "\n",
    "Basal Cell Carcinoma (Referred to as \"Basal Cell Carcinoma (BCC)\" in List 2)\n",
    "\n",
    "Seborrheic Keratosis (Referred to as \"Seborrheic Keratoses and other Benign Tumors\" in List 2)\n",
    "\n",
    "Nevus (Referred to as \"Melanocytic Nevi (NV)\" in List 2)\n",
    "\n",
    "Pigmented Benign Keratosis (Partially matches \"Benign Keratosis-like Lesions (BKL)\" in List 2)"
   ]
  },
  {
   "cell_type": "markdown",
   "metadata": {},
   "source": [
    "\n",
    "Subfolder: 2. Melanoma 15.75k,                                  Number of Images: 3626\n",
    "\n",
    "Subfolder: 4. Basal Cell Carcinoma (BCC),                       Number of Images: 3592\n",
    "\n",
    "Subfolder: 6. Benign Keratosis-like Lesions (BKL),              Number of Images: 2250\n",
    "\n",
    "Subfolder: 8. Seborrheic Keratoses and other Benign Tumors,     Number of Images: 2347\n",
    "\n",
    "Subfolder: 5. Melanocytic Nevi (NV),                            Number of Images: 8470"
   ]
  },
  {
   "cell_type": "code",
   "execution_count": 9,
   "metadata": {},
   "outputs": [
    {
     "data": {
      "text/plain": [
       "\"C:\\\\Users\\\\Viren\\\\Desktop\\\\HackNUthon'25 March'25\\\\Reve\\\\Skin diseases image dataset_kaggle_archive\\\\IMG_CLASSES\\\\5. Melanocytic Nevi (NV) - 7970\""
      ]
     },
     "execution_count": 9,
     "metadata": {},
     "output_type": "execute_result"
    }
   ],
   "source": [
    "r\"C:\\Users\\Viren\\Desktop\\HackNUthon'25 March'25\\Reve\\Skin diseases image dataset_kaggle_archive\\IMG_CLASSES\\5. Melanocytic Nevi (NV) - 7970\""
   ]
  },
  {
   "cell_type": "code",
   "execution_count": 11,
   "metadata": {},
   "outputs": [
    {
     "name": "stdout",
     "output_type": "stream",
     "text": [
      "Deleting 4970 images from 8470 total...\n",
      "Final image count: 3500\n"
     ]
    }
   ],
   "source": [
    "import os\n",
    "import random\n",
    "\n",
    "def reduce_images_to_3500(folder_path):\n",
    "    # Get list of all image files\n",
    "    image_extensions = ('.png', '.jpg', '.jpeg', '.bmp', '.gif', '.webp')\n",
    "    image_files = [\n",
    "        f for f in os.listdir(folder_path)\n",
    "        if f.lower().endswith(image_extensions)\n",
    "    ]\n",
    "    \n",
    "    current_count = len(image_files)\n",
    "    \n",
    "    if current_count <= 3500:\n",
    "        print(f\"Already {current_count} images (≤3500), no deletion needed.\")\n",
    "        return\n",
    "    \n",
    "    # Calculate how many to delete\n",
    "    to_delete = current_count - 3500\n",
    "    print(f\"Deleting {to_delete} images from {current_count} total...\")\n",
    "    \n",
    "    # Select random files to delete\n",
    "    files_to_remove = random.sample(image_files, to_delete)\n",
    "    \n",
    "    # Delete the selected files\n",
    "    for file_name in files_to_remove:\n",
    "        file_path = os.path.join(folder_path, file_name)\n",
    "        try:\n",
    "            os.remove(file_path)\n",
    "        except Exception as e:\n",
    "            print(f\"Error deleting {file_name}: {str(e)}\")\n",
    "    \n",
    "    # Verify final count\n",
    "    final_count = len([f for f in os.listdir(folder_path) \n",
    "                      if f.lower().endswith(image_extensions)])\n",
    "    print(f\"Final image count: {final_count}\")\n",
    "\n",
    "# Usage\n",
    "reduce_images_to_3500(\"Skin diseases image dataset_kaggle_archive/IMG_CLASSES/5. Melanocytic Nevi (NV) - 7970\")\n"
   ]
  },
  {
   "cell_type": "code",
   "execution_count": null,
   "metadata": {},
   "outputs": [],
   "source": []
  },
  {
   "cell_type": "code",
   "execution_count": 6,
   "metadata": {},
   "outputs": [
    {
     "name": "stdout",
     "output_type": "stream",
     "text": [
      "Subfolder: 1. Eczema 1677, Number of Images: 1677\n",
      "Subfolder: 10. Warts Molluscum and other Viral Infections - 2103, Number of Images: 2103\n",
      "Subfolder: 2. Melanoma 15.75k, Number of Images: 3626\n",
      "Subfolder: 3. Atopic Dermatitis - 1.25k, Number of Images: 1257\n",
      "Subfolder: 4. Basal Cell Carcinoma (BCC) 3323, Number of Images: 3592\n",
      "Subfolder: 5. Melanocytic Nevi (NV) - 7970, Number of Images: 8470\n",
      "Subfolder: 6. Benign Keratosis-like Lesions (BKL) 2624, Number of Images: 2250\n",
      "Subfolder: 7. Psoriasis pictures Lichen Planus and related diseases - 2k, Number of Images: 2055\n",
      "Subfolder: 8. Seborrheic Keratoses and other Benign Tumors - 1.8k, Number of Images: 2347\n",
      "Subfolder: 9. Tinea Ringworm Candidiasis and other Fungal Infections - 1.7k, Number of Images: 1702\n"
     ]
    }
   ],
   "source": [
    "import os\n",
    "\n",
    "def get_subfolders_and_image_counts(folder_path):\n",
    "    # Dictionary to store subfolder names and their image counts\n",
    "    subfolders_info = {}\n",
    "    \n",
    "    # Iterate through the items in the folder\n",
    "    for item in os.listdir(folder_path):\n",
    "        item_path = os.path.join(folder_path, item)\n",
    "        # Check if the item is a directory (subfolder)\n",
    "        if os.path.isdir(item_path):\n",
    "            # Count the number of image files in the subfolder\n",
    "            image_files = [f for f in os.listdir(item_path) if f.lower().endswith(('.png', '.jpg', '.jpeg', '.bmp', '.gif'))]\n",
    "            subfolders_info[item] = len(image_files)\n",
    "    \n",
    "    return subfolders_info\n",
    "\n",
    "# Example usage\n",
    "folder_path = \"Skin diseases image dataset_kaggle_archive/IMG_CLASSES\"  # Replace with the path to your folder\n",
    "subfolders_info = get_subfolders_and_image_counts(folder_path)\n",
    "\n",
    "# Print subfolder names and their image counts\n",
    "for subfolder, image_count in subfolders_info.items():\n",
    "    print(f\"Subfolder: {subfolder}, Number of Images: {image_count}\")\n"
   ]
  },
  {
   "cell_type": "code",
   "execution_count": null,
   "metadata": {},
   "outputs": [],
   "source": []
  }
 ],
 "metadata": {
  "kernelspec": {
   "display_name": "tiger",
   "language": "python",
   "name": "python3"
  },
  "language_info": {
   "codemirror_mode": {
    "name": "ipython",
    "version": 3
   },
   "file_extension": ".py",
   "mimetype": "text/x-python",
   "name": "python",
   "nbconvert_exporter": "python",
   "pygments_lexer": "ipython3",
   "version": "3.10.0"
  }
 },
 "nbformat": 4,
 "nbformat_minor": 2
}
