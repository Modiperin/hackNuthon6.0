{
 "cells": [
  {
   "cell_type": "code",
   "execution_count": 1,
   "metadata": {},
   "outputs": [
    {
     "name": "stdout",
     "output_type": "stream",
     "text": [
      "['Acitinic Keratosis', 'Basal Cell Carcinoma', 'Dermatofibroma', 'Melanoma', 'Nevus', 'Pigmented Benign Keratosis', 'Seborrheic Keratosis', 'Squamous Cell Carcinoma', 'Vascular Lesion']\n"
     ]
    }
   ],
   "source": [
    "import os\n",
    "\n",
    "def list_folders(directory):\n",
    "    return [f for f in os.listdir(directory) if os.path.isdir(os.path.join(directory, f))]\n",
    "\n",
    "# Example usage\n",
    "directory_path = \"Skin Cancer Dataset\"\n",
    "folders = list_folders(directory_path)\n",
    "print(folders)\n"
   ]
  },
  {
   "cell_type": "code",
   "execution_count": 2,
   "metadata": {},
   "outputs": [
    {
     "data": {
      "text/plain": [
       "9"
      ]
     },
     "execution_count": 2,
     "metadata": {},
     "output_type": "execute_result"
    }
   ],
   "source": [
    "len(folders)"
   ]
  },
  {
   "cell_type": "code",
   "execution_count": null,
   "metadata": {},
   "outputs": [],
   "source": []
  },
  {
   "cell_type": "code",
   "execution_count": 3,
   "metadata": {},
   "outputs": [
    {
     "name": "stdout",
     "output_type": "stream",
     "text": [
      "Dataset has been successfully split into train, test, and split sets!\n"
     ]
    }
   ],
   "source": [
    "import os\n",
    "import shutil\n",
    "import random\n",
    "\n",
    "def split_data(source_folder, dest_folder, train_ratio=0.8, test_ratio=0.1, split_ratio=0.1):\n",
    "    # Ensure the destination folders exist\n",
    "    train_path = os.path.join(dest_folder, \"train\")\n",
    "    test_path = os.path.join(dest_folder, \"test\")\n",
    "    split_path = os.path.join(dest_folder, \"split\")\n",
    "    \n",
    "    os.makedirs(train_path, exist_ok=True)\n",
    "    os.makedirs(test_path, exist_ok=True)\n",
    "    os.makedirs(split_path, exist_ok=True)\n",
    "\n",
    "    # Iterate through each disease subfolder\n",
    "    for disease in os.listdir(source_folder):\n",
    "        disease_path = os.path.join(source_folder, disease)\n",
    "        if not os.path.isdir(disease_path):\n",
    "            continue  # Skip if it's not a folder\n",
    "\n",
    "        # Get all images inside the disease folder\n",
    "        images = [img for img in os.listdir(disease_path) if img.lower().endswith(('.jpg', '.jpeg', '.png'))]\n",
    "        \n",
    "        # Shuffle images randomly\n",
    "        random.shuffle(images)\n",
    "        \n",
    "        # Compute split indices\n",
    "        total_images = len(images)\n",
    "        train_count = int(total_images * train_ratio)\n",
    "        test_count = int(total_images * test_ratio)\n",
    "\n",
    "        # Split data\n",
    "        train_images = images[:train_count]\n",
    "        test_images = images[train_count:train_count + test_count]\n",
    "        split_images = images[train_count + test_count:]\n",
    "\n",
    "        # Function to copy files to new destination with renaming\n",
    "        def copy_files(image_list, folder):\n",
    "            target_folder = os.path.join(folder, disease)  # Create subfolder per class\n",
    "            os.makedirs(target_folder, exist_ok=True)\n",
    "            \n",
    "            for i, img in enumerate(image_list):\n",
    "                src_path = os.path.join(disease_path, img)\n",
    "                new_name = f\"{disease}_{i+1}.jpg\"  # Rename with class name\n",
    "                dest_path = os.path.join(target_folder, new_name)\n",
    "                shutil.copy2(src_path, dest_path)  # Copy with metadata\n",
    "            \n",
    "        # Copy images\n",
    "        copy_files(train_images, train_path)\n",
    "        copy_files(test_images, test_path)\n",
    "        copy_files(split_images, split_path)\n",
    "\n",
    "    print(\"Dataset has been successfully split into train, test, and split sets!\")\n",
    "\n",
    "# Usage\n",
    "source_folder = \"Skin Cancer Dataset\"  # Change this to your folder path\n",
    "dest_folder = \"skin-train\"  # Change this to where you want to save the split dataset\n",
    "split_data(source_folder, dest_folder)"
   ]
  },
  {
   "cell_type": "code",
   "execution_count": null,
   "metadata": {},
   "outputs": [],
   "source": []
  },
  {
   "cell_type": "code",
   "execution_count": null,
   "metadata": {},
   "outputs": [],
   "source": []
  },
  {
   "cell_type": "code",
   "execution_count": null,
   "metadata": {},
   "outputs": [],
   "source": []
  },
  {
   "cell_type": "code",
   "execution_count": null,
   "metadata": {},
   "outputs": [],
   "source": []
  }
 ],
 "metadata": {
  "kernelspec": {
   "display_name": "base",
   "language": "python",
   "name": "python3"
  },
  "language_info": {
   "codemirror_mode": {
    "name": "ipython",
    "version": 3
   },
   "file_extension": ".py",
   "mimetype": "text/x-python",
   "name": "python",
   "nbconvert_exporter": "python",
   "pygments_lexer": "ipython3",
   "version": "3.12.4"
  }
 },
 "nbformat": 4,
 "nbformat_minor": 2
}
